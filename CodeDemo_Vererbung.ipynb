{
 "cells": [
  {
   "cell_type": "markdown",
   "metadata": {},
   "source": [
    "<img src=\"../../Data/JupyterBannerImage-2sem.png\" align = \"left\">"
   ]
  },
  {
   "cell_type": "markdown",
   "metadata": {},
   "source": [
    "# Fortgeschrittene Programmierung mit Python!\n",
    "### Code-Demo 4: Vererbung"
   ]
  },
  {
   "cell_type": "markdown",
   "metadata": {},
   "source": [
    "Herzlich wilkommen zu dieser Code-Demo von *Fortgeschrittene Programmierung mit Python*. In der Demo gewöhnen wir uns an die Arbeit mit Jupyter-Notebooks im Kontext der aktuellen Vorlesung. Bevor Sie den Code ansehen, sollten Sie die Theorie bereits gut verstanden haben!"
   ]
  },
  {
   "cell_type": "markdown",
   "metadata": {},
   "source": [
    "### Was Sie in diese Demo lernen\n",
    "1. Einfachvererbung\n",
    "2. Mehrfachvererbung\n",
    "3. Vererbung über mehrere Ebenen\n",
    "4. Hybrid-Vererbung\n",
    "5. Reihenfolge der Methodennamenauflösung"
   ]
  },
  {
   "cell_type": "markdown",
   "metadata": {},
   "source": [
    "<div class=\"alert alert-block alert-info\">\n",
    "<h3>1. Einfachvererbung</h3>\n",
    "</div>\n",
    "\n",
    "\n"
   ]
  },
  {
   "cell_type": "markdown",
   "metadata": {},
   "source": [
    "**Syntax:**<br>\n",
    "```python\n",
    "class Elternklasse:\n",
    "    pass\n",
    "\n",
    "class Kindklasse(Elternklasse):\n",
    "    pass\n",
    "\n",
    "```"
   ]
  },
  {
   "cell_type": "code",
   "execution_count": 22,
   "metadata": {},
   "outputs": [],
   "source": [
    "# Elternklasse\n",
    "class Form:\n",
    "    \"\"\" Demo Vererbung: Elterklasse. \"\"\"\n",
    "    \n",
    "    name = \"Bisher kein Name vergeben\"\n",
    "    \n",
    "    def __init__(self):\n",
    "        \"\"\" Einfache Initialisierungsnachricht. \"\"\"\n",
    "        \n",
    "        print(\"Form wird initialisiert\") \n",
    "    \n",
    "    def faerben(self, farbe='schwarz'):\n",
    "        \"\"\" Farbe setzen. \"\"\"\n",
    "        \n",
    "        self.farbe = farbe\n",
    "        print(\"Die Form hat die Farbe\", self.farbe)\n",
    "        \n",
    "\n",
    "class Quadrat(Form):\n",
    "    \"\"\" Demo Vererbung Kindklasse. \"\"\"\n",
    "    \n",
    "    def anzeigen(self):\n",
    "        \"\"\" Beschreibung ausgeben. \"\"\"\n",
    "        \n",
    "        print(\"Das hier ist ein Quadrat\")\n",
    "        \n",
    "    def abmessungen(self, seitenlaenge):\n",
    "        \"\"\" Seitenlänge ausgeben. \"\"\"\n",
    "        \n",
    "        print(\"Seitenlänge des Quadrates:\", seitenlaenge)   "
   ]
  },
  {
   "cell_type": "code",
   "execution_count": 12,
   "metadata": {},
   "outputs": [
    {
     "name": "stdout",
     "output_type": "stream",
     "text": [
      "Form wird initialisiert\n"
     ]
    }
   ],
   "source": [
    "# Elterklasse instanziieren\n",
    "form1 = Form()"
   ]
  },
  {
   "cell_type": "code",
   "execution_count": 13,
   "metadata": {},
   "outputs": [
    {
     "name": "stdout",
     "output_type": "stream",
     "text": [
      "Die Form hat die Farbe rot\n"
     ]
    }
   ],
   "source": [
    "form1.faerben('rot')"
   ]
  },
  {
   "cell_type": "code",
   "execution_count": 14,
   "metadata": {},
   "outputs": [
    {
     "data": {
      "text/plain": [
       "'Bisher kein Name vergeben'"
      ]
     },
     "execution_count": 14,
     "metadata": {},
     "output_type": "execute_result"
    }
   ],
   "source": [
    "form1.name"
   ]
  },
  {
   "cell_type": "code",
   "execution_count": 15,
   "metadata": {},
   "outputs": [],
   "source": [
    "form1.name = 'Form 1'"
   ]
  },
  {
   "cell_type": "code",
   "execution_count": 17,
   "metadata": {},
   "outputs": [
    {
     "data": {
      "text/plain": [
       "'Form 1'"
      ]
     },
     "execution_count": 17,
     "metadata": {},
     "output_type": "execute_result"
    }
   ],
   "source": [
    "form1.name"
   ]
  },
  {
   "cell_type": "code",
   "execution_count": 23,
   "metadata": {},
   "outputs": [
    {
     "name": "stdout",
     "output_type": "stream",
     "text": [
      "Form wird initialisiert\n"
     ]
    }
   ],
   "source": [
    "# Kindklasse instanziieren\n",
    "quadrat = Quadrat()"
   ]
  },
  {
   "cell_type": "code",
   "execution_count": 24,
   "metadata": {},
   "outputs": [
    {
     "name": "stdout",
     "output_type": "stream",
     "text": [
      "Die Form hat die Farbe blau\n"
     ]
    }
   ],
   "source": [
    "quadrat.faerben('blau')"
   ]
  },
  {
   "cell_type": "code",
   "execution_count": 25,
   "metadata": {},
   "outputs": [
    {
     "name": "stdout",
     "output_type": "stream",
     "text": [
      "Das hier ist ein Quadrat\n"
     ]
    }
   ],
   "source": [
    "quadrat.anzeigen()"
   ]
  },
  {
   "cell_type": "code",
   "execution_count": 27,
   "metadata": {},
   "outputs": [
    {
     "name": "stdout",
     "output_type": "stream",
     "text": [
      "Seitenlänge des Quadrates: 5\n"
     ]
    }
   ],
   "source": [
    "quadrat.abmessungen(5)"
   ]
  },
  {
   "cell_type": "code",
   "execution_count": 28,
   "metadata": {},
   "outputs": [
    {
     "data": {
      "text/plain": [
       "'Bisher kein Name vergeben'"
      ]
     },
     "execution_count": 28,
     "metadata": {},
     "output_type": "execute_result"
    }
   ],
   "source": [
    "quadrat.name"
   ]
  },
  {
   "cell_type": "code",
   "execution_count": 29,
   "metadata": {},
   "outputs": [],
   "source": [
    "quadrat.name = \"Quadrat 1\""
   ]
  },
  {
   "cell_type": "code",
   "execution_count": 30,
   "metadata": {},
   "outputs": [
    {
     "data": {
      "text/plain": [
       "'Quadrat 1'"
      ]
     },
     "execution_count": 30,
     "metadata": {},
     "output_type": "execute_result"
    }
   ],
   "source": [
    "quadrat.name"
   ]
  },
  {
   "cell_type": "markdown",
   "metadata": {},
   "source": [
    "<div class=\"alert alert-block alert-info\">\n",
    "<h3>2. Mehrfachvererbung</h3>\n",
    "</div>\n",
    "\n",
    "\n"
   ]
  },
  {
   "cell_type": "markdown",
   "metadata": {},
   "source": [
    "**Syntax:**<br>\n",
    "```python\n",
    "class Elterklasse1:\n",
    "    pass\n",
    "\n",
    "class Elterklasse2:\n",
    "    pass\n",
    "\n",
    "class Kindklasse(Elterklasse1, Elterklasse2):\n",
    "    pass\n",
    "\n",
    "```"
   ]
  },
  {
   "cell_type": "code",
   "execution_count": 31,
   "metadata": {},
   "outputs": [],
   "source": [
    "class Form:\n",
    "    \"\"\" Demo multiple Vererbung: Elterklasse 1. \"\"\"\n",
    "    \n",
    "    name = \"Bisher kein Name vergeben\"\n",
    "    \n",
    "    def __init__(self):\n",
    "        \"\"\" Initialisierungsnachricht Elter 1. \"\"\"\n",
    "        \n",
    "        print(\"Form wird initialisiert\") \n",
    "    \n",
    "    def faerben(self, farbe='schwarz'):\n",
    "        \"\"\" Farbe setzen. \"\"\"\n",
    "        \n",
    "        self.farbe = farbe\n",
    "        print(\"Form hat die Farbe\",self.farbe)\n",
    "        \n",
    "        \n",
    "class Texturiert:\n",
    "    \"\"\" Demo multiple Vererbung: Elterklasse 2. \"\"\"\n",
    "    \n",
    "    textur = \"rau\"\n",
    "    \n",
    "    def __init__(self):\n",
    "        \"\"\" Initialisierungsnachricht Elter 2. \"\"\"\n",
    "        \n",
    "        print(\"Textur wird initialisiert\") \n",
    "    \n",
    "    def textur_setzen(self, textur):\n",
    "        \"\"\" Textur setzen. \"\"\"\n",
    "        \n",
    "        self.textur = textur\n",
    "        print(\"Textur der Form ist\",self.textur)\n",
    "\n",
    "        \n",
    "class Quadrat(Form, Texturiert):\n",
    "    \"\"\" Demo multiple Vererbung: Kindklasse. \"\"\"\n",
    "    \n",
    "    def anzeigen(self):\n",
    "        \"\"\" Beschreibung ausgeben. \"\"\"\n",
    "        \n",
    "        print(\"Das hier ist ein Quadrat\")\n",
    "        \n",
    "    def abmessungen(self, seitenlaenge):\n",
    "        \"\"\" Seitenlänge ausgeben. \"\"\"\n",
    "        \n",
    "        print(\"Seitenlänge des Quadrates:\", seitenlaenge)\n",
    "        "
   ]
  },
  {
   "cell_type": "code",
   "execution_count": 40,
   "metadata": {},
   "outputs": [
    {
     "name": "stdout",
     "output_type": "stream",
     "text": [
      "Form wird initialisiert\n"
     ]
    }
   ],
   "source": [
    "# Kindklasse instanziieren\n",
    "quadrat2 = Quadrat()"
   ]
  },
  {
   "cell_type": "markdown",
   "metadata": {},
   "source": [
    "Bemerkung: Es wird nur die `__init__`-Methode der ersten Elternklasse aufgerufen."
   ]
  },
  {
   "cell_type": "code",
   "execution_count": 41,
   "metadata": {},
   "outputs": [
    {
     "name": "stdout",
     "output_type": "stream",
     "text": [
      "Form hat die Farbe weiß\n"
     ]
    }
   ],
   "source": [
    "quadrat2.faerben('weiß')"
   ]
  },
  {
   "cell_type": "code",
   "execution_count": 42,
   "metadata": {},
   "outputs": [
    {
     "name": "stdout",
     "output_type": "stream",
     "text": [
      "Das hier ist ein Quadrat\n"
     ]
    }
   ],
   "source": [
    "quadrat2.anzeigen()"
   ]
  },
  {
   "cell_type": "code",
   "execution_count": 43,
   "metadata": {},
   "outputs": [
    {
     "name": "stdout",
     "output_type": "stream",
     "text": [
      "Seitenlänge des Quadrates: 7.5\n"
     ]
    }
   ],
   "source": [
    "quadrat2.abmessungen(7.5)"
   ]
  },
  {
   "cell_type": "code",
   "execution_count": 44,
   "metadata": {},
   "outputs": [
    {
     "data": {
      "text/plain": [
       "'Bisher kein Name vergeben'"
      ]
     },
     "execution_count": 44,
     "metadata": {},
     "output_type": "execute_result"
    }
   ],
   "source": [
    "quadrat2.name"
   ]
  },
  {
   "cell_type": "code",
   "execution_count": 45,
   "metadata": {},
   "outputs": [],
   "source": [
    "quadrat2.name = 'Quadrat 2'"
   ]
  },
  {
   "cell_type": "code",
   "execution_count": 46,
   "metadata": {},
   "outputs": [
    {
     "data": {
      "text/plain": [
       "'Quadrat 2'"
      ]
     },
     "execution_count": 46,
     "metadata": {},
     "output_type": "execute_result"
    }
   ],
   "source": [
    "quadrat2.name"
   ]
  },
  {
   "cell_type": "code",
   "execution_count": 47,
   "metadata": {},
   "outputs": [
    {
     "data": {
      "text/plain": [
       "'rau'"
      ]
     },
     "execution_count": 47,
     "metadata": {},
     "output_type": "execute_result"
    }
   ],
   "source": [
    "quadrat2.textur"
   ]
  },
  {
   "cell_type": "code",
   "execution_count": 48,
   "metadata": {},
   "outputs": [
    {
     "name": "stdout",
     "output_type": "stream",
     "text": [
      "Textur der Form ist glatt\n"
     ]
    }
   ],
   "source": [
    "quadrat2.textur_anzeigen('glatt')"
   ]
  },
  {
   "cell_type": "code",
   "execution_count": 49,
   "metadata": {},
   "outputs": [
    {
     "data": {
      "text/plain": [
       "'glatt'"
      ]
     },
     "execution_count": 49,
     "metadata": {},
     "output_type": "execute_result"
    }
   ],
   "source": [
    "quadrat2.textur"
   ]
  },
  {
   "cell_type": "markdown",
   "metadata": {},
   "source": [
    "<div class=\"alert alert-block alert-info\">\n",
    "<h3>3. Vererbung über mehrere Ebenen\n",
    "</h3>\n",
    "</div>\n",
    "\n",
    "\n"
   ]
  },
  {
   "cell_type": "markdown",
   "metadata": {},
   "source": [
    "**Syntax:**<br>\n",
    "```python\n",
    "class Elternklasse:\n",
    "    pass\n",
    "\n",
    "class Kindklasse(Elternklasse):\n",
    "    pass\n",
    "\n",
    "class Enkelklasse(Kindklasse):\n",
    "    pass\n",
    "\n",
    "```"
   ]
  },
  {
   "cell_type": "code",
   "execution_count": 50,
   "metadata": {},
   "outputs": [],
   "source": [
    "class Form:\n",
    "    \"\"\" Demo Vererbung über mehrere Ebenen: Elterklasse. \"\"\"\n",
    "    \n",
    "    name = \"Bisher kein Name vergeben\"\n",
    "    \n",
    "    def __init__(self):\n",
    "        \"\"\" Initialisierungsnachricht Elterklasse. \"\"\"\n",
    "        \n",
    "        print(\"Form wird initialisiert\") \n",
    "    \n",
    "    def faerben(self, farbe='schwarz'):\n",
    "        \"\"\" Farbe setzen. \"\"\"\n",
    "        \n",
    "        self.farbe = farbe\n",
    "        print(\"Form hat die Farbe\", self.farbe)\n",
    "        \n",
    "        \n",
    "class Texturiert(Form):\n",
    "    \"\"\" Demo Vererbung über mehrere Ebenen: Kindklasse. \"\"\"\n",
    "    \n",
    "    textur = \"rau\"\n",
    "    \n",
    "    def __init__(self):\n",
    "        \"\"\" Initialisierungsnachricht Kindklasse. \"\"\"\n",
    "        \n",
    "        print(\"Textur wird initialisiert\") \n",
    "    \n",
    "    def textur_setzen(self, textur):\n",
    "        \"\"\" Textur setzen. \"\"\"\n",
    "        \n",
    "        self.textur = textur\n",
    "        print(\"Textur der Form ist\", self.textur)\n",
    "\n",
    "\n",
    "class Quadrat(Texturiert):\n",
    "    \"\"\" Demo Vererbung über mehrere Ebenen: Enkelklasse. \"\"\"\n",
    "    \n",
    "    def anzeigen(self):\n",
    "        \"\"\" Beschreibung ausgeben. \"\"\"\n",
    "        \n",
    "        print(\"Das hier ist ein Quadrat\")\n",
    "        \n",
    "    def abmessungen(self, seitenlaenge):\n",
    "        \"\"\" Seitenlänge ausgeben. \"\"\"\n",
    "        \n",
    "        print(\"Seitenlänge des Quadrates:\", seitenlaenge)     "
   ]
  },
  {
   "cell_type": "code",
   "execution_count": 53,
   "metadata": {},
   "outputs": [
    {
     "name": "stdout",
     "output_type": "stream",
     "text": [
      "Textur wird initialisiert\n"
     ]
    }
   ],
   "source": [
    "# Enkelklasse instanziieren\n",
    "quadrat3 = Quadrat()"
   ]
  },
  {
   "cell_type": "code",
   "execution_count": 54,
   "metadata": {},
   "outputs": [
    {
     "name": "stdout",
     "output_type": "stream",
     "text": [
      "Form hat die Farbe schwarz\n"
     ]
    }
   ],
   "source": [
    "quadrat3.faerben()"
   ]
  },
  {
   "cell_type": "code",
   "execution_count": 56,
   "metadata": {},
   "outputs": [
    {
     "name": "stdout",
     "output_type": "stream",
     "text": [
      "Seitenlänge des Quadrates: 3\n"
     ]
    }
   ],
   "source": [
    "quadrat3.abmessungen(3)"
   ]
  },
  {
   "cell_type": "code",
   "execution_count": 57,
   "metadata": {},
   "outputs": [
    {
     "data": {
      "text/plain": [
       "'Bisher kein Name vergeben'"
      ]
     },
     "execution_count": 57,
     "metadata": {},
     "output_type": "execute_result"
    }
   ],
   "source": [
    "quadrat3.name"
   ]
  },
  {
   "cell_type": "code",
   "execution_count": 58,
   "metadata": {},
   "outputs": [],
   "source": [
    "quadrat3.name = 'Quadrat III'"
   ]
  },
  {
   "cell_type": "code",
   "execution_count": 59,
   "metadata": {},
   "outputs": [
    {
     "data": {
      "text/plain": [
       "'Quadrat III'"
      ]
     },
     "execution_count": 59,
     "metadata": {},
     "output_type": "execute_result"
    }
   ],
   "source": [
    "quadrat3.name"
   ]
  },
  {
   "cell_type": "code",
   "execution_count": 64,
   "metadata": {},
   "outputs": [
    {
     "name": "stdout",
     "output_type": "stream",
     "text": [
      "Textur der Form ist glibberig\n"
     ]
    }
   ],
   "source": [
    "quadrat3.textur_anzeigen('glibberig')"
   ]
  },
  {
   "cell_type": "code",
   "execution_count": 65,
   "metadata": {},
   "outputs": [
    {
     "data": {
      "text/plain": [
       "'glibberig'"
      ]
     },
     "execution_count": 65,
     "metadata": {},
     "output_type": "execute_result"
    }
   ],
   "source": [
    "quadrat3.textur"
   ]
  },
  {
   "cell_type": "markdown",
   "metadata": {},
   "source": [
    "<div class=\"alert alert-block alert-info\">\n",
    "<h3>4. Hybridvererbung</h3>\n",
    "</div>"
   ]
  },
  {
   "cell_type": "markdown",
   "metadata": {},
   "source": [
    "**Syntax:**<br>\n",
    "```python\n",
    "class Elterklasse:\n",
    "    pass\n",
    "\n",
    "class Kind1(Elterklasse):\n",
    "    pass\n",
    "\n",
    "class Kind2(Elterklasse):\n",
    "    pass\n",
    "\n",
    "```"
   ]
  },
  {
   "cell_type": "code",
   "execution_count": 66,
   "metadata": {},
   "outputs": [],
   "source": [
    "class Form:\n",
    "    \"\"\" Demo Hybridvererbung: Elterklasse. \"\"\"\n",
    "    \n",
    "    name = \"Bisher kein Name vergeben\"\n",
    "    \n",
    "    def __init__(self):\n",
    "        \"\"\" Initialisierungsnachricht Elterklasse. \"\"\"\n",
    "        \n",
    "        print(\"Form wird initialisiert\") \n",
    "    \n",
    "    def faerben(self, farbe='schwarz'):\n",
    "        \"\"\" Farbe setzen. \"\"\"\n",
    "        \n",
    "        self.farbe = farbe\n",
    "        print(\"Form hat die Farbe\", self.farbe)\n",
    "        \n",
    "\n",
    "class Texturiert(Form):\n",
    "    \"\"\" Demo Hybridvererbung: Kindklasse 1. \"\"\"\n",
    "    \n",
    "    textur = \"rau\"\n",
    "    \n",
    "    def __init__(self):\n",
    "        \"\"\" Initialisierungsnachricht Kindklasse. \"\"\"\n",
    "        \n",
    "        print(\"Textur wird initialisiert\") \n",
    "    \n",
    "    def textur_setzen(self, textur):\n",
    "        \"\"\" Textur setzen. \"\"\"\n",
    "        \n",
    "        self.textur = textur\n",
    "        print(\"Textur der Form ist\", self.textur)\n",
    "\n",
    "\n",
    "class Quadrat(Form):\n",
    "    \"\"\" Demo Hybridvererbung: Kindklasse 2. \"\"\"\n",
    "    \n",
    "    def anzeigen(self):\n",
    "        \"\"\" Beschreibung ausgeben. \"\"\"\n",
    "        \n",
    "        print(\"Das hier ist ein Quadrat\")\n",
    "        \n",
    "    def abmessungen(self, seitenlaenge):\n",
    "        \"\"\" Seitenlänge ausgeben. \"\"\"\n",
    "        \n",
    "        print(\"Seitenlänge des Quadrates:\", seitenlaenge)"
   ]
  },
  {
   "cell_type": "code",
   "execution_count": 67,
   "metadata": {},
   "outputs": [
    {
     "name": "stdout",
     "output_type": "stream",
     "text": [
      "Textur wird initialisiert\n"
     ]
    }
   ],
   "source": [
    "# Kindklasse 1 instanziierung\n",
    "textur1 = Texturiert()"
   ]
  },
  {
   "cell_type": "markdown",
   "metadata": {},
   "source": [
    "Bemerkung: Die `__init__`-Methode der Kindklasse wird statt der der Elternklasse ausgeführt."
   ]
  },
  {
   "cell_type": "code",
   "execution_count": 68,
   "metadata": {},
   "outputs": [
    {
     "name": "stdout",
     "output_type": "stream",
     "text": [
      "Form hat die Farbe schwarz\n"
     ]
    }
   ],
   "source": [
    "textur1.faerben()"
   ]
  },
  {
   "cell_type": "code",
   "execution_count": 69,
   "metadata": {},
   "outputs": [
    {
     "data": {
      "text/plain": [
       "'Bisher kein Name vergeben'"
      ]
     },
     "execution_count": 69,
     "metadata": {},
     "output_type": "execute_result"
    }
   ],
   "source": [
    "textur1.name"
   ]
  },
  {
   "cell_type": "code",
   "execution_count": 71,
   "metadata": {},
   "outputs": [
    {
     "name": "stdout",
     "output_type": "stream",
     "text": [
      "Textur der Form ist gestreift\n"
     ]
    }
   ],
   "source": [
    "textur1.textur_anzeigen(\"gestreift\")"
   ]
  },
  {
   "cell_type": "code",
   "execution_count": 73,
   "metadata": {},
   "outputs": [
    {
     "name": "stdout",
     "output_type": "stream",
     "text": [
      "Form wird initialisiert\n"
     ]
    }
   ],
   "source": [
    "# Kindklasse 1 instanziierung\n",
    "quadrat4 = Quadrat()"
   ]
  },
  {
   "cell_type": "markdown",
   "metadata": {},
   "source": [
    "Bemerkung: Das die Kindklasse keine `__init__`-Methode definiert, wird stattdessen die `__init__`-Methode der Elternklasse aufgerufen."
   ]
  },
  {
   "cell_type": "code",
   "execution_count": 74,
   "metadata": {},
   "outputs": [
    {
     "name": "stdout",
     "output_type": "stream",
     "text": [
      "Form hat die Farbe schwarz\n"
     ]
    }
   ],
   "source": [
    "quadrat4.faerben()"
   ]
  },
  {
   "cell_type": "code",
   "execution_count": 76,
   "metadata": {},
   "outputs": [
    {
     "name": "stdout",
     "output_type": "stream",
     "text": [
      "Das hier ist ein Quadrat\n"
     ]
    }
   ],
   "source": [
    "quadrat4.anzeigen()"
   ]
  },
  {
   "cell_type": "code",
   "execution_count": 79,
   "metadata": {},
   "outputs": [
    {
     "name": "stdout",
     "output_type": "stream",
     "text": [
      "Seitenlänge des Quadrates: 4\n"
     ]
    }
   ],
   "source": [
    "quadrat4.abmessungen(4)"
   ]
  },
  {
   "cell_type": "code",
   "execution_count": 80,
   "metadata": {},
   "outputs": [
    {
     "data": {
      "text/plain": [
       "'Bisher kein Name vergeben'"
      ]
     },
     "execution_count": 80,
     "metadata": {},
     "output_type": "execute_result"
    }
   ],
   "source": [
    "quadrat4.name"
   ]
  },
  {
   "cell_type": "markdown",
   "metadata": {},
   "source": [
    "<div class=\"alert alert-block alert-info\">\n",
    "<h3>5. Reihenfolge der Methodennamenauflösung</h3>\n",
    "<p><i>Die Reihenfolge legt die Präzedenz fest, wenn Eltern- und Kindklasse Methoden desselben Namens definieren. In unserem Fall überschreiben die Definitionen der Kinder immer die der Eltern (durch Mehrfachvererbung kann es zu komplizierteren Fällen kommen). Die Reihenfolge kann mit den eingebauten Funktionen `__mro__` oder `mro` abgerufen werden. (MRO steht für \"method resolution order\".)</i>\n",
    "    </p>\n",
    "</div>"
   ]
  },
  {
   "cell_type": "markdown",
   "metadata": {},
   "source": [
    "**Syntax:**<br>\n",
    "```python\n",
    "class Elterklasse:\n",
    "    pass\n",
    "\n",
    "class Kind1(Elterklasse):\n",
    "    pass\n",
    "\n",
    "class Kind2(Elterklasse):\n",
    "    pass\n",
    "\n",
    "# Reihenfolge der Methodennamenauflösung prüfen mit \"MRO\"\n",
    "Kind1.__mro__\n",
    "Kind1.mro()\n",
    "\n",
    "```"
   ]
  },
  {
   "cell_type": "code",
   "execution_count": 81,
   "metadata": {},
   "outputs": [],
   "source": [
    "class A:\n",
    "    def __init__():\n",
    "        print(\"Klasse A\")\n",
    "        \n",
    "class B:\n",
    "    def __init__():\n",
    "        print(\"Klasse B\")\n",
    "        \n",
    "class C:\n",
    "      def __init__():\n",
    "            print(\"Klasse C\")\n",
    "            \n",
    "class X(A, B):\n",
    "    def __init__():\n",
    "        print(\"Klasse X\")\n",
    "        \n",
    "class Y(B, C):\n",
    "    def __init__():\n",
    "        print(\"Klasse Y\")\n",
    "\n",
    "class Z(X, Y, A):\n",
    "    def __init__():\n",
    "        print(\"Klasse Z\")"
   ]
  },
  {
   "cell_type": "code",
   "execution_count": 84,
   "metadata": {},
   "outputs": [
    {
     "data": {
      "text/plain": [
       "(__main__.Z,\n",
       " __main__.X,\n",
       " __main__.Y,\n",
       " __main__.A,\n",
       " __main__.B,\n",
       " __main__.C,\n",
       " object)"
      ]
     },
     "execution_count": 84,
     "metadata": {},
     "output_type": "execute_result"
    }
   ],
   "source": [
    "# Gibt ein Tupel zurück\n",
    "Z.__mro__"
   ]
  },
  {
   "cell_type": "code",
   "execution_count": 85,
   "metadata": {},
   "outputs": [
    {
     "data": {
      "text/plain": [
       "[__main__.Z,\n",
       " __main__.X,\n",
       " __main__.Y,\n",
       " __main__.A,\n",
       " __main__.B,\n",
       " __main__.C,\n",
       " object]"
      ]
     },
     "execution_count": 85,
     "metadata": {},
     "output_type": "execute_result"
    }
   ],
   "source": [
    "# Gibt eine Liste zurück\n",
    "Z.mro()"
   ]
  },
  {
   "cell_type": "code",
   "execution_count": 86,
   "metadata": {},
   "outputs": [
    {
     "data": {
      "text/plain": [
       "[__main__.X, __main__.A, __main__.B, object]"
      ]
     },
     "execution_count": 86,
     "metadata": {},
     "output_type": "execute_result"
    }
   ],
   "source": [
    "X.mro()"
   ]
  },
  {
   "cell_type": "code",
   "execution_count": 87,
   "metadata": {},
   "outputs": [
    {
     "data": {
      "text/plain": [
       "[__main__.Y, __main__.B, __main__.C, object]"
      ]
     },
     "execution_count": 87,
     "metadata": {},
     "output_type": "execute_result"
    }
   ],
   "source": [
    "Y.mro()"
   ]
  },
  {
   "cell_type": "code",
   "execution_count": 88,
   "metadata": {},
   "outputs": [
    {
     "data": {
      "text/plain": [
       "[__main__.A, object]"
      ]
     },
     "execution_count": 88,
     "metadata": {},
     "output_type": "execute_result"
    }
   ],
   "source": [
    "A.mro()"
   ]
  },
  {
   "cell_type": "markdown",
   "metadata": {},
   "source": [
    "*Mehr zu MRO gibts in der offiziellen Dokumentation: https://www.python.org/download/releases/2.3/mro/*"
   ]
  },
  {
   "cell_type": "markdown",
   "metadata": {},
   "source": [
    "### ENDE"
   ]
  }
 ],
 "metadata": {
  "kernelspec": {
   "display_name": "Python 3",
   "language": "python",
   "name": "python3"
  },
  "language_info": {
   "codemirror_mode": {
    "name": "ipython",
    "version": 3
   },
   "file_extension": ".py",
   "mimetype": "text/x-python",
   "name": "python",
   "nbconvert_exporter": "python",
   "pygments_lexer": "ipython3",
   "version": "3.8.5"
  },
  "varInspector": {
   "cols": {
    "lenName": 16,
    "lenType": 16,
    "lenVar": 40
   },
   "kernels_config": {
    "python": {
     "delete_cmd_postfix": "",
     "delete_cmd_prefix": "del ",
     "library": "var_list.py",
     "varRefreshCmd": "print(var_dic_list())"
    },
    "r": {
     "delete_cmd_postfix": ") ",
     "delete_cmd_prefix": "rm(",
     "library": "var_list.r",
     "varRefreshCmd": "cat(var_dic_list()) "
    }
   },
   "types_to_exclude": [
    "module",
    "function",
    "builtin_function_or_method",
    "instance",
    "_Feature"
   ],
   "window_display": false
  }
 },
 "nbformat": 4,
 "nbformat_minor": 4
}
