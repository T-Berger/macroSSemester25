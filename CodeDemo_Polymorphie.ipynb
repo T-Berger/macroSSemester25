{
 "cells": [
  {
   "cell_type": "markdown",
   "metadata": {},
   "source": [
    "<img src=\"../../Data/JupyterBannerImage-2sem.png\" align = \"left\">"
   ]
  },
  {
   "cell_type": "markdown",
   "metadata": {},
   "source": [
    "# Fortgeschrittene Programmierung in Python\n",
    "### Code-Demo 5: Polymorphie"
   ]
  },
  {
   "cell_type": "markdown",
   "metadata": {},
   "source": [
    "Herzlich wilkommen zu dieser Code-Demo von *Fortgeschrittene Programmierung mit Python*. In der Demo gewöhnen wir uns an die Arbeit mit Jupyter-Notebooks im Kontext der aktuellen Vorlesung. Bevor Sie den Code ansehen, sollten Sie die Theorie bereits gut verstanden haben!"
   ]
  },
  {
   "cell_type": "markdown",
   "metadata": {},
   "source": [
    "### Was Sie lernen werden\n",
    "1. Was ist Polymorphie?\n",
    "2. Methoden überladen – funktioniert das?\n",
    "3. Operatoren überladen\n",
    "4. Überschreiben\n",
    "5. super()\n"
   ]
  },
  {
   "cell_type": "markdown",
   "metadata": {},
   "source": [
    "<div class=\"alert alert-block alert-info\">\n",
    "<h3>1. Was ist Polymorphie?</h3>\n",
    "</div>\n",
    "\n",
    "\n"
   ]
  },
  {
   "cell_type": "code",
   "execution_count": 1,
   "metadata": {},
   "outputs": [],
   "source": [
    "eine_liste = [\"Poly\",\"morphie\"]"
   ]
  },
  {
   "cell_type": "code",
   "execution_count": 2,
   "metadata": {},
   "outputs": [
    {
     "name": "stdout",
     "output_type": "stream",
     "text": [
      "2\n"
     ]
    }
   ],
   "source": [
    "print(len(eine_liste))"
   ]
  },
  {
   "cell_type": "code",
   "execution_count": 3,
   "metadata": {},
   "outputs": [],
   "source": [
    "ein_string = \"Polymorphie\""
   ]
  },
  {
   "cell_type": "code",
   "execution_count": 4,
   "metadata": {},
   "outputs": [
    {
     "name": "stdout",
     "output_type": "stream",
     "text": [
      "11\n"
     ]
    }
   ],
   "source": [
    "print(len(ein_string))"
   ]
  },
  {
   "cell_type": "markdown",
   "metadata": {},
   "source": [
    "Merke: **Die `len`-Funktion funktioniert je nach Typ der Argumente anders.**"
   ]
  },
  {
   "cell_type": "markdown",
   "metadata": {},
   "source": [
    "<div class=\"alert alert-block alert-info\">\n",
    "<h3>2. Methoden überschreiben – geht das?</h3>\n",
    "</div>\n",
    "\n",
    "\n"
   ]
  },
  {
   "cell_type": "markdown",
   "metadata": {},
   "source": [
    "**Syntax:**<br>\n",
    "```python\n",
    "def funktion(a, b):\n",
    "    pass\n",
    "\n",
    "def funktion(a, b, c):\n",
    "    pass\n",
    "\n",
    "```"
   ]
  },
  {
   "cell_type": "code",
   "execution_count": 5,
   "metadata": {},
   "outputs": [],
   "source": [
    "def berechne(a, b):\n",
    "    \"\"\" Berechne die Summe zweier Eingabeparameter. \"\"\"\n",
    "    \n",
    "    summe = a + b\n",
    "    print(summe)\n",
    "\n",
    "\n",
    "def berechne(a, b, c):\n",
    "    \"\"\" Berechne die Summe von drei Eingabeparametern. \"\"\"\n",
    "    \n",
    "    summe = a + b + c\n",
    "    print(summe)"
   ]
  },
  {
   "cell_type": "code",
   "execution_count": 6,
   "metadata": {},
   "outputs": [
    {
     "ename": "TypeError",
     "evalue": "berechne() missing 1 required positional argument: 'c'",
     "output_type": "error",
     "traceback": [
      "\u001b[0;31m---------------------------------------------------------------------------\u001b[0m",
      "\u001b[0;31mTypeError\u001b[0m                                 Traceback (most recent call last)",
      "\u001b[0;32m/tmp/ipykernel_30874/140889510.py\u001b[0m in \u001b[0;36m<module>\u001b[0;34m\u001b[0m\n\u001b[1;32m      1\u001b[0m \u001b[0;31m# Versuch mit zwei Parametern\u001b[0m\u001b[0;34m\u001b[0m\u001b[0;34m\u001b[0m\u001b[0;34m\u001b[0m\u001b[0m\n\u001b[0;32m----> 2\u001b[0;31m \u001b[0mberechne\u001b[0m\u001b[0;34m(\u001b[0m\u001b[0;36m5\u001b[0m\u001b[0;34m,\u001b[0m \u001b[0;36m10\u001b[0m\u001b[0;34m)\u001b[0m\u001b[0;34m\u001b[0m\u001b[0;34m\u001b[0m\u001b[0m\n\u001b[0m",
      "\u001b[0;31mTypeError\u001b[0m: berechne() missing 1 required positional argument: 'c'"
     ]
    }
   ],
   "source": [
    "# Versuch mit zwei Parametern\n",
    "berechne(5, 10)"
   ]
  },
  {
   "cell_type": "code",
   "execution_count": 7,
   "metadata": {},
   "outputs": [
    {
     "name": "stdout",
     "output_type": "stream",
     "text": [
      "36\n"
     ]
    }
   ],
   "source": [
    "# Versuch mit drei Parametern\n",
    "berechne(5 , 10, 21)"
   ]
  },
  {
   "cell_type": "markdown",
   "metadata": {},
   "source": [
    "***Merke*** <br>\n",
    "Die Methode `berechne` kann nur eine Definition besitzen. Wenn zwei Definitionen da sind, überschreibt die zweite die erste. Ein Konzept der polymorphen Überladung, wie es das in anderen OOP-Sprachen wie Java gibt, existiert in Python nicht."
   ]
  },
  {
   "cell_type": "markdown",
   "metadata": {},
   "source": [
    "<div class=\"alert alert-block alert-info\">\n",
    "<h3>3. Überladen von Operatoren</h3>\n",
    "</div>"
   ]
  },
  {
   "cell_type": "code",
   "execution_count": 8,
   "metadata": {},
   "outputs": [
    {
     "name": "stdout",
     "output_type": "stream",
     "text": [
      "HalloHörer\n"
     ]
    }
   ],
   "source": [
    "print(\"Hallo\" + \"Hörer\")"
   ]
  },
  {
   "cell_type": "code",
   "execution_count": 9,
   "metadata": {},
   "outputs": [
    {
     "name": "stdout",
     "output_type": "stream",
     "text": [
      "54\n"
     ]
    }
   ],
   "source": [
    "print(21 + 33)"
   ]
  },
  {
   "cell_type": "markdown",
   "metadata": {},
   "source": [
    "**Merke: der Plus-Operator erfüllt für verschieden Typen unterschiedliche Funktionen.**"
   ]
  },
  {
   "cell_type": "code",
   "execution_count": 10,
   "metadata": {},
   "outputs": [
    {
     "name": "stdout",
     "output_type": "stream",
     "text": [
      "HalloHalloHallo\n"
     ]
    }
   ],
   "source": [
    "print(\"Hallo\" * 3)"
   ]
  },
  {
   "cell_type": "code",
   "execution_count": 11,
   "metadata": {},
   "outputs": [
    {
     "name": "stdout",
     "output_type": "stream",
     "text": [
      "6\n"
     ]
    }
   ],
   "source": [
    "print(2 * 3)"
   ]
  },
  {
   "cell_type": "markdown",
   "metadata": {},
   "source": [
    "Merke: **Auch der *-Operator hat verschiedene Funktionen**"
   ]
  },
  {
   "cell_type": "markdown",
   "metadata": {},
   "source": [
    "<div class=\"alert alert-block alert-info\">\n",
    "<h3>4. Überschreiben\n",
    "</h3>\n",
    "</div>\n",
    "\n",
    "\n"
   ]
  },
  {
   "cell_type": "markdown",
   "metadata": {},
   "source": [
    "**Syntax:**<br>\n",
    "```python\n",
    "class ElterKlasse:\n",
    "    \n",
    "    def anzeigen():\n",
    "        pass\n",
    "\n",
    "class Kindklasse(Elterklasse):\n",
    "\n",
    "    def anzeigen():\n",
    "        pass\n",
    "\n",
    "```"
   ]
  },
  {
   "cell_type": "code",
   "execution_count": 12,
   "metadata": {},
   "outputs": [],
   "source": [
    "class Obst:\n",
    "    \"\"\" Elterklasse zur Demonstration von Polymorphismus. \"\"\"\n",
    "\n",
    "    def __init__(self, name):\n",
    "        self.name = name\n",
    "        print(f\"Ich bin eine {self.name}\") \n",
    "    \n",
    "    def eigenschaft(self):\n",
    "        print(\"Wie jedes Obst habe auch ich einen ganz bestimmten Geschmack und Farbe.\")\n",
    "        \n",
    "        \n",
    "class Orange(Obst):\n",
    "    \"\"\" Kindklasse 1 zur Demonstration von Polymorphismus. \"\"\"\n",
    "    \n",
    "    def eigenschaft(self, geschmack, farbe):\n",
    "        self.geschmack = geschmack\n",
    "        self.farbe = farbe\n",
    "        print(f\"Ich bin eine {self.name}. Farblich bin ich {self.farbe} und geschmacklich {self.geschmack}.\")\n",
    "        \n",
    "        \n",
    "class Banane(Obst):\n",
    "    \"\"\" Kindklasse 2 zur Demonstration von Polymorphismus. \"\"\"\n",
    "    \n",
    "    def eigenschaft(self, farbe):\n",
    "        self.farbe = farbe\n",
    "        print(f\"Ich bin eine {self.name}. Meine Farbe ist {self.farbe}.\")"
   ]
  },
  {
   "cell_type": "code",
   "execution_count": 13,
   "metadata": {},
   "outputs": [
    {
     "name": "stdout",
     "output_type": "stream",
     "text": [
      "Ich bin eine Weintraube\n"
     ]
    }
   ],
   "source": [
    "# Elterklasse instanziieren\n",
    "weintraube = Obst(\"Weintraube\")"
   ]
  },
  {
   "cell_type": "code",
   "execution_count": 14,
   "metadata": {},
   "outputs": [
    {
     "name": "stdout",
     "output_type": "stream",
     "text": [
      "Wie jedes Obst habe auch ich einen ganz bestimmten Geschmack und Farbe.\n"
     ]
    }
   ],
   "source": [
    "weintraube.eigenschaft()"
   ]
  },
  {
   "cell_type": "code",
   "execution_count": 15,
   "metadata": {
    "scrolled": true
   },
   "outputs": [
    {
     "name": "stdout",
     "output_type": "stream",
     "text": [
      "Ich bin eine Orange\n"
     ]
    }
   ],
   "source": [
    "# Kindklasse Orange instanziieren\n",
    "orange = Orange(\"Orange\")"
   ]
  },
  {
   "cell_type": "code",
   "execution_count": 16,
   "metadata": {},
   "outputs": [
    {
     "name": "stdout",
     "output_type": "stream",
     "text": [
      "Ich bin eine Orange. Farblich bin ich orange und geschmacklich sauer.\n"
     ]
    }
   ],
   "source": [
    "orange.eigenschaft(\"sauer\", \"orange\")"
   ]
  },
  {
   "cell_type": "markdown",
   "metadata": {},
   "source": [
    "Merke:\n",
    "**Selber Methodenname `eigenschaft`, ausgeführt wird die Version der Kindklasse.**\n"
   ]
  },
  {
   "cell_type": "code",
   "execution_count": 17,
   "metadata": {},
   "outputs": [
    {
     "name": "stdout",
     "output_type": "stream",
     "text": [
      "Ich bin eine Banane\n"
     ]
    }
   ],
   "source": [
    "# Kindklasse Banane instanziieren\n",
    "banane = Banane(\"Banane\")"
   ]
  },
  {
   "cell_type": "code",
   "execution_count": 18,
   "metadata": {},
   "outputs": [
    {
     "name": "stdout",
     "output_type": "stream",
     "text": [
      "Ich bin eine Banane. Meine Farbe ist gelb.\n"
     ]
    }
   ],
   "source": [
    "banane.eigenschaft(\"gelb\")"
   ]
  },
  {
   "cell_type": "markdown",
   "metadata": {},
   "source": [
    "Merke (wie oben):\n",
    "**Selber Methodenname `eigenschaft`, ausgeführt wird die Version der Kindklasse.**"
   ]
  },
  {
   "cell_type": "markdown",
   "metadata": {},
   "source": [
    "<div class=\"alert alert-block alert-info\">\n",
    "<h3>5. super()</h3>\n",
    "</div>"
   ]
  },
  {
   "cell_type": "markdown",
   "metadata": {},
   "source": [
    "`super` wird benutzt, um in der Kindklasse eine Methode der Elternklasse aufzurufen (lat. super = über)"
   ]
  },
  {
   "cell_type": "markdown",
   "metadata": {},
   "source": [
    "**Syntax:**<br>\n",
    "```python\n",
    "class Elterklasse:\n",
    "    def methode():\n",
    "        pass\n",
    "\n",
    "class Kind1(Elterklasse):\n",
    "    def methode():\n",
    "        super().methode()\n",
    "\n",
    "class Kind2(Elterklasse):\n",
    "    def methode():\n",
    "        super().methode()\n",
    "\n",
    "```"
   ]
  },
  {
   "cell_type": "code",
   "execution_count": 19,
   "metadata": {},
   "outputs": [],
   "source": [
    "class Obst:\n",
    "    \"\"\" Elterklasse zur Demonstration von Polymorphismus. \"\"\"\n",
    "\n",
    "    def __init__(self, name):\n",
    "        self.name = name\n",
    "        print(f\"Ich bin eine {self.name}\") \n",
    "    \n",
    "    def eigenschaft(self):\n",
    "        print(\"Wie jedes Obst habe auch ich einen ganz bestimmten Geschmack und Farbe.\")\n",
    "        \n",
    "        \n",
    "class Orange(Obst):\n",
    "    \"\"\" Kindklasse 1 zur Demonstration von Polymorphismus. \"\"\"\n",
    "    \n",
    "    def eigenschaft(self):\n",
    "        super().eigenschaft()\n",
    "        print(f\"Das sind die Eigenschaften einer Orange!!\")\n",
    "        \n",
    "        \n",
    "class Banane(Obst):\n",
    "    \"\"\" Kindklasse 2 zur Demonstration von Polymorphismus. \"\"\"\n",
    "    \n",
    "    def eigenschaft(self):\n",
    "        super().eigenschaft()"
   ]
  },
  {
   "cell_type": "code",
   "execution_count": 20,
   "metadata": {},
   "outputs": [
    {
     "name": "stdout",
     "output_type": "stream",
     "text": [
      "Ich bin eine Traube\n"
     ]
    }
   ],
   "source": [
    "# Elterklasse instanziieren\n",
    "weintraube = Obst(\"Traube\")"
   ]
  },
  {
   "cell_type": "code",
   "execution_count": 21,
   "metadata": {},
   "outputs": [
    {
     "name": "stdout",
     "output_type": "stream",
     "text": [
      "Wie jedes Obst habe auch ich einen ganz bestimmten Geschmack und Farbe.\n"
     ]
    }
   ],
   "source": [
    "weintraube.eigenschaft()"
   ]
  },
  {
   "cell_type": "code",
   "execution_count": 22,
   "metadata": {},
   "outputs": [
    {
     "name": "stdout",
     "output_type": "stream",
     "text": [
      "Ich bin eine Orange\n"
     ]
    }
   ],
   "source": [
    "# Kindklasse Orange instanziieren\n",
    "orange = Orange(\"Orange\")"
   ]
  },
  {
   "cell_type": "code",
   "execution_count": 23,
   "metadata": {},
   "outputs": [
    {
     "name": "stdout",
     "output_type": "stream",
     "text": [
      "Wie jedes Obst habe auch ich einen ganz bestimmten Geschmack und Farbe.\n",
      "Das sind die Eigenschaften einer Orange!!\n"
     ]
    }
   ],
   "source": [
    "orange.eigenschaft()"
   ]
  },
  {
   "cell_type": "markdown",
   "metadata": {},
   "source": [
    "Merke:\n",
    "**Die Methode `eigenschaft` der Elternklasse wird mittels `super()` aufgerufen.**"
   ]
  },
  {
   "cell_type": "code",
   "execution_count": 24,
   "metadata": {},
   "outputs": [
    {
     "name": "stdout",
     "output_type": "stream",
     "text": [
      "Ich bin eine Banane\n"
     ]
    }
   ],
   "source": [
    "# Kindklasse Banane instanziieren\n",
    "banane = Banane(\"Banane\")"
   ]
  },
  {
   "cell_type": "code",
   "execution_count": 25,
   "metadata": {},
   "outputs": [
    {
     "name": "stdout",
     "output_type": "stream",
     "text": [
      "Wie jedes Obst habe auch ich einen ganz bestimmten Geschmack und Farbe.\n"
     ]
    }
   ],
   "source": [
    "banane.eigenschaft()"
   ]
  },
  {
   "cell_type": "markdown",
   "metadata": {},
   "source": [
    "Merke wieder:\n",
    "**Die Methode `eigenschaft` der Elternklasse wird mittels `super()` aufgerufen.**"
   ]
  },
  {
   "cell_type": "markdown",
   "metadata": {},
   "source": [
    "### ENDE"
   ]
  }
 ],
 "metadata": {
  "kernelspec": {
   "display_name": "Python 3",
   "language": "python",
   "name": "python3"
  },
  "language_info": {
   "codemirror_mode": {
    "name": "ipython",
    "version": 3
   },
   "file_extension": ".py",
   "mimetype": "text/x-python",
   "name": "python",
   "nbconvert_exporter": "python",
   "pygments_lexer": "ipython3",
   "version": "3.8.5"
  },
  "varInspector": {
   "cols": {
    "lenName": 16,
    "lenType": 16,
    "lenVar": 40
   },
   "kernels_config": {
    "python": {
     "delete_cmd_postfix": "",
     "delete_cmd_prefix": "del ",
     "library": "var_list.py",
     "varRefreshCmd": "print(var_dic_list())"
    },
    "r": {
     "delete_cmd_postfix": ") ",
     "delete_cmd_prefix": "rm(",
     "library": "var_list.r",
     "varRefreshCmd": "cat(var_dic_list()) "
    }
   },
   "types_to_exclude": [
    "module",
    "function",
    "builtin_function_or_method",
    "instance",
    "_Feature"
   ],
   "window_display": false
  }
 },
 "nbformat": 4,
 "nbformat_minor": 4
}
